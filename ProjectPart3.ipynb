{
  "nbformat": 4,
  "nbformat_minor": 0,
  "metadata": {
    "colab": {
      "name": "ProjectPart3.ipynb",
      "provenance": [],
      "collapsed_sections": []
    },
    "kernelspec": {
      "name": "python3",
      "display_name": "Python 3"
    },
    "language_info": {
      "name": "python"
    },
    "accelerator": "GPU"
  },
  "cells": [
    {
      "cell_type": "markdown",
      "metadata": {
        "id": "L1yeO9vpC5Pv"
      },
      "source": [
        "\n",
        "# Project Part 3:\n",
        "In this part of the project we have implemented a CNN with the given architecture."
      ]
    },
    {
      "cell_type": "markdown",
      "metadata": {
        "id": "5vu_7NPpDNcV"
      },
      "source": [
        "importing the required packages."
      ]
    },
    {
      "cell_type": "code",
      "metadata": {
        "id": "7sNxwpvOoV9v"
      },
      "source": [
        "import numpy as np\n",
        "import tensorflow as tf\n",
        "from tensorflow import keras as ks\n",
        "import scipy.io as sc\n",
        "import pandas as pd\n",
        "from tensorflow.keras.utils import to_categorical, normalize\n",
        "from tensorflow.keras.models import Sequential\n",
        "from tensorflow.keras.layers import Dense, Flatten, Conv2D, MaxPool2D\n",
        "from tensorflow.keras.losses import categorical_crossentropy\n",
        "from tensorflow.keras.optimizers import SGD\n",
        "import matplotlib.pyplot as plt"
      ],
      "execution_count": 2,
      "outputs": []
    },
    {
      "cell_type": "markdown",
      "metadata": {
        "id": "AcWGYz30DVWv"
      },
      "source": [
        "importing the training and test data from mat file"
      ]
    },
    {
      "cell_type": "code",
      "metadata": {
        "id": "0xMmDCs_pbO4"
      },
      "source": [
        "trX = sc.loadmat('train_32x32.mat')['X']\n",
        "trY = sc.loadmat('train_32x32.mat')['y']\n",
        "tsX = sc.loadmat('test_32x32.mat')['X']\n",
        "tsY = sc.loadmat('test_32x32.mat')['y']"
      ],
      "execution_count": 3,
      "outputs": []
    },
    {
      "cell_type": "markdown",
      "metadata": {
        "id": "TB8KDWeNDcfp"
      },
      "source": [
        "Re shaping the train data and converting it to float type"
      ]
    },
    {
      "cell_type": "code",
      "metadata": {
        "id": "bsoS82sXGiq-"
      },
      "source": [
        "trX = trX.reshape(trX.shape[0], 32, 32, 3)\n",
        "trX = trX.astype('float32')\n",
        "trX/= 255 # converting the rgb values\n"
      ],
      "execution_count": 4,
      "outputs": []
    },
    {
      "cell_type": "markdown",
      "metadata": {
        "id": "gqFDqfNpDztO"
      },
      "source": [
        "Re shaping test data and converting it to float type"
      ]
    },
    {
      "cell_type": "code",
      "metadata": {
        "id": "E0TPdocHzo_3"
      },
      "source": [
        "tsX = tsX.reshape(tsX.shape[0], 32, 32, 3)\n",
        "tsX = tsX.astype('float32')\n",
        "tsX/= 255"
      ],
      "execution_count": 5,
      "outputs": []
    },
    {
      "cell_type": "markdown",
      "metadata": {
        "id": "_udt1pQFD7Tn"
      },
      "source": [
        "Normalizing the labels and encoding them with one-hot vector encoding. "
      ]
    },
    {
      "cell_type": "code",
      "metadata": {
        "id": "iZCL7So0syvW"
      },
      "source": [
        "trY_encoded=to_categorical(trY)"
      ],
      "execution_count": 6,
      "outputs": []
    },
    {
      "cell_type": "code",
      "metadata": {
        "id": "E1SWW147zwBZ"
      },
      "source": [
        "tsY_encoded=to_categorical(tsY)"
      ],
      "execution_count": 7,
      "outputs": []
    },
    {
      "cell_type": "code",
      "metadata": {
        "colab": {
          "base_uri": "https://localhost:8080/"
        },
        "id": "baYUZx1Fx-YX",
        "outputId": "7d07f07d-a4e9-4d87-be91-47a164d32994"
      },
      "source": [
        "trY_encoded"
      ],
      "execution_count": 8,
      "outputs": [
        {
          "output_type": "execute_result",
          "data": {
            "text/plain": [
              "array([[0., 1., 0., ..., 0., 0., 0.],\n",
              "       [0., 0., 0., ..., 0., 0., 1.],\n",
              "       [0., 0., 1., ..., 0., 0., 0.],\n",
              "       ...,\n",
              "       [0., 1., 0., ..., 0., 0., 0.],\n",
              "       [0., 0., 0., ..., 0., 0., 0.],\n",
              "       [0., 0., 0., ..., 0., 0., 1.]], dtype=float32)"
            ]
          },
          "metadata": {
            "tags": []
          },
          "execution_count": 8
        }
      ]
    },
    {
      "cell_type": "code",
      "metadata": {
        "colab": {
          "base_uri": "https://localhost:8080/"
        },
        "id": "Bzh-FrbT3ova",
        "outputId": "bdf837c9-cad2-4514-b971-dc6d5154831b"
      },
      "source": [
        "trX"
      ],
      "execution_count": 9,
      "outputs": [
        {
          "output_type": "execute_result",
          "data": {
            "text/plain": [
              "array([[[[0.12941177, 0.11764706, 0.14901961],\n",
              "         [0.05882353, 0.09019608, 0.07450981],\n",
              "         [0.05882353, 0.06666667, 0.07450981],\n",
              "         ...,\n",
              "         [0.28235295, 0.25490198, 0.21960784],\n",
              "         [0.32156864, 0.3019608 , 0.22352941],\n",
              "         [0.34901962, 0.30980393, 0.23137255]],\n",
              "\n",
              "        [[0.10980392, 0.15294118, 0.13725491],\n",
              "         [0.05490196, 0.09803922, 0.08627451],\n",
              "         [0.05490196, 0.07843138, 0.06666667],\n",
              "         ...,\n",
              "         [0.15686275, 0.15294118, 0.19607843],\n",
              "         [0.2627451 , 0.22745098, 0.20392157],\n",
              "         [0.3254902 , 0.30588236, 0.23529412]],\n",
              "\n",
              "        [[0.15686275, 0.16078432, 0.14901961],\n",
              "         [0.07058824, 0.08235294, 0.10196079],\n",
              "         [0.0627451 , 0.06666667, 0.09019608],\n",
              "         ...,\n",
              "         [0.09019608, 0.11372549, 0.1764706 ],\n",
              "         [0.13725491, 0.16470589, 0.17254902],\n",
              "         [0.28235295, 0.27058825, 0.20784314]],\n",
              "\n",
              "        ...,\n",
              "\n",
              "        [[0.3372549 , 0.31764707, 0.29411766],\n",
              "         [0.34117648, 0.32156864, 0.2784314 ],\n",
              "         [0.32156864, 0.30980393, 0.25490198],\n",
              "         ...,\n",
              "         [0.40784314, 0.40784314, 0.34117648],\n",
              "         [0.40784314, 0.4117647 , 0.31764707],\n",
              "         [0.40392157, 0.4117647 , 0.30588236]],\n",
              "\n",
              "        [[0.32941177, 0.3372549 , 0.2509804 ],\n",
              "         [0.3372549 , 0.30980393, 0.28235295],\n",
              "         [0.32156864, 0.29803923, 0.28235295],\n",
              "         ...,\n",
              "         [0.43137255, 0.40392157, 0.32941177],\n",
              "         [0.41568628, 0.4117647 , 0.33333334],\n",
              "         [0.41568628, 0.40784314, 0.3372549 ]],\n",
              "\n",
              "        [[0.33333334, 0.34509805, 0.26666668],\n",
              "         [0.34901962, 0.32156864, 0.28235295],\n",
              "         [0.33333334, 0.30980393, 0.2627451 ],\n",
              "         ...,\n",
              "         [0.43529412, 0.40784314, 0.34117648],\n",
              "         [0.42745098, 0.4117647 , 0.3372549 ],\n",
              "         [0.40392157, 0.41568628, 0.30980393]]],\n",
              "\n",
              "\n",
              "       [[[0.32941177, 0.29803923, 0.23137255],\n",
              "         [0.3372549 , 0.28627452, 0.25882354],\n",
              "         [0.3019608 , 0.30588236, 0.21960784],\n",
              "         ...,\n",
              "         [0.3529412 , 0.30588236, 0.27058825],\n",
              "         [0.34509805, 0.3019608 , 0.2627451 ],\n",
              "         [0.34509805, 0.30588236, 0.25882354]],\n",
              "\n",
              "        [[0.33333334, 0.3019608 , 0.23921569],\n",
              "         [0.3254902 , 0.28627452, 0.2509804 ],\n",
              "         [0.2901961 , 0.27058825, 0.23137255],\n",
              "         ...,\n",
              "         [0.34901962, 0.32156864, 0.2509804 ],\n",
              "         [0.34509805, 0.30980393, 0.27450982],\n",
              "         [0.34509805, 0.31764707, 0.2627451 ]],\n",
              "\n",
              "        [[0.3254902 , 0.29803923, 0.23529412],\n",
              "         [0.30588236, 0.3019608 , 0.22745098],\n",
              "         [0.23921569, 0.19607843, 0.21176471],\n",
              "         ...,\n",
              "         [0.3529412 , 0.33333334, 0.24705882],\n",
              "         [0.34509805, 0.3254902 , 0.25882354],\n",
              "         [0.33333334, 0.32156864, 0.27450982]],\n",
              "\n",
              "        ...,\n",
              "\n",
              "        [[0.39215687, 0.38431373, 0.28235295],\n",
              "         [0.38431373, 0.36862746, 0.29803923],\n",
              "         [0.37254903, 0.3647059 , 0.28627452],\n",
              "         ...,\n",
              "         [0.40784314, 0.40784314, 0.3372549 ],\n",
              "         [0.4       , 0.4       , 0.34117648],\n",
              "         [0.39215687, 0.39607844, 0.30588236]],\n",
              "\n",
              "        [[0.40392157, 0.40784314, 0.30980393],\n",
              "         [0.41568628, 0.40784314, 0.30980393],\n",
              "         [0.40392157, 0.40392157, 0.34117648],\n",
              "         ...,\n",
              "         [0.40392157, 0.40784314, 0.3372549 ],\n",
              "         [0.40392157, 0.40392157, 0.34117648],\n",
              "         [0.4117647 , 0.3882353 , 0.31764707]],\n",
              "\n",
              "        [[0.40392157, 0.41568628, 0.32156864],\n",
              "         [0.40392157, 0.4117647 , 0.34117648],\n",
              "         [0.40784314, 0.41568628, 0.35686275],\n",
              "         ...,\n",
              "         [0.44313726, 0.40392157, 0.34509805],\n",
              "         [0.40784314, 0.40784314, 0.34509805],\n",
              "         [0.40392157, 0.38431373, 0.3137255 ]]],\n",
              "\n",
              "\n",
              "       [[[0.07450981, 0.21176471, 0.43137255],\n",
              "         [0.07843138, 0.20392157, 0.43529412],\n",
              "         [0.09803922, 0.22352941, 0.45490196],\n",
              "         ...,\n",
              "         [0.25490198, 0.5647059 , 0.8745098 ],\n",
              "         [0.30588236, 0.5803922 , 0.85490197],\n",
              "         [0.38431373, 0.61960787, 0.8627451 ]],\n",
              "\n",
              "        [[0.08235294, 0.20784314, 0.43137255],\n",
              "         [0.07450981, 0.20392157, 0.41568628],\n",
              "         [0.09803922, 0.21960784, 0.43529412],\n",
              "         ...,\n",
              "         [0.24705882, 0.5372549 , 0.8156863 ],\n",
              "         [0.35686275, 0.6       , 0.8392157 ],\n",
              "         [0.50980395, 0.7058824 , 0.8980392 ]],\n",
              "\n",
              "        [[0.08235294, 0.20784314, 0.43137255],\n",
              "         [0.07843138, 0.2       , 0.41568628],\n",
              "         [0.08627451, 0.20392157, 0.41568628],\n",
              "         ...,\n",
              "         [0.30980393, 0.5764706 , 0.8235294 ],\n",
              "         [0.49019608, 0.70980394, 0.9019608 ],\n",
              "         [0.69803923, 0.85490197, 0.99607843]],\n",
              "\n",
              "        ...,\n",
              "\n",
              "        [[0.34509805, 0.63529414, 0.92941177],\n",
              "         [0.34901962, 0.6392157 , 0.93333334],\n",
              "         [0.32941177, 0.6117647 , 0.9019608 ],\n",
              "         ...,\n",
              "         [0.24313726, 0.5568628 , 0.8901961 ],\n",
              "         [0.2627451 , 0.5647059 , 0.8862745 ],\n",
              "         [0.2901961 , 0.5686275 , 0.88235295]],\n",
              "\n",
              "        [[0.34509805, 0.6431373 , 0.9411765 ],\n",
              "         [0.34117648, 0.627451  , 0.92941177],\n",
              "         [0.34509805, 0.62352943, 0.92941177],\n",
              "         ...,\n",
              "         [0.23529412, 0.5529412 , 0.9019608 ],\n",
              "         [0.23921569, 0.5529412 , 0.89411765],\n",
              "         [0.25490198, 0.56078434, 0.8862745 ]],\n",
              "\n",
              "        [[0.32941177, 0.627451  , 0.93333334],\n",
              "         [0.31764707, 0.6039216 , 0.9137255 ],\n",
              "         [0.34117648, 0.61960787, 0.93333334],\n",
              "         ...,\n",
              "         [0.24705882, 0.5647059 , 0.92156863],\n",
              "         [0.24313726, 0.56078434, 0.9098039 ],\n",
              "         [0.24705882, 0.5686275 , 0.90588236]]],\n",
              "\n",
              "\n",
              "       ...,\n",
              "\n",
              "\n",
              "       [[[0.36078432, 0.30588236, 0.39607844],\n",
              "         [0.36862746, 0.32156864, 0.4117647 ],\n",
              "         [0.44705883, 0.39607844, 0.49019608],\n",
              "         ...,\n",
              "         [0.78431374, 0.7882353 , 0.79607844],\n",
              "         [0.7529412 , 0.75686276, 0.7647059 ],\n",
              "         [0.74509805, 0.7490196 , 0.75686276]],\n",
              "\n",
              "        [[0.36078432, 0.30588236, 0.40392157],\n",
              "         [0.3647059 , 0.3137255 , 0.41568628],\n",
              "         [0.43529412, 0.38431373, 0.4862745 ],\n",
              "         ...,\n",
              "         [0.70980394, 0.7058824 , 0.72156864],\n",
              "         [0.69411767, 0.6901961 , 0.7058824 ],\n",
              "         [0.7176471 , 0.7137255 , 0.73333335]],\n",
              "\n",
              "        [[0.3882353 , 0.32941177, 0.4392157 ],\n",
              "         [0.36862746, 0.31764707, 0.43137255],\n",
              "         [0.41960785, 0.36862746, 0.48235294],\n",
              "         ...,\n",
              "         [0.654902  , 0.6509804 , 0.67058825],\n",
              "         [0.6745098 , 0.67058825, 0.6901961 ],\n",
              "         [0.7254902 , 0.72156864, 0.7411765 ]],\n",
              "\n",
              "        ...,\n",
              "\n",
              "        [[0.3882353 , 0.36862746, 0.43137255],\n",
              "         [0.3764706 , 0.35686275, 0.42745098],\n",
              "         [0.42352942, 0.40392157, 0.4862745 ],\n",
              "         ...,\n",
              "         [0.8235294 , 0.8117647 , 0.8       ],\n",
              "         [0.80784315, 0.7921569 , 0.78431374],\n",
              "         [0.79607844, 0.77254903, 0.78039217]],\n",
              "\n",
              "        [[0.36862746, 0.35686275, 0.40392157],\n",
              "         [0.36862746, 0.35686275, 0.40784314],\n",
              "         [0.43137255, 0.41960785, 0.4745098 ],\n",
              "         ...,\n",
              "         [0.85882354, 0.85490197, 0.84313726],\n",
              "         [0.85490197, 0.84313726, 0.83137256],\n",
              "         [0.83137256, 0.81960785, 0.81960785]],\n",
              "\n",
              "        [[0.34509805, 0.34117648, 0.36862746],\n",
              "         [0.33333334, 0.32941177, 0.3647059 ],\n",
              "         [0.4117647 , 0.40392157, 0.44705883],\n",
              "         ...,\n",
              "         [0.8509804 , 0.8509804 , 0.8392157 ],\n",
              "         [0.8666667 , 0.8627451 , 0.85882354],\n",
              "         [0.85490197, 0.8509804 , 0.85490197]]],\n",
              "\n",
              "\n",
              "       [[[0.74509805, 0.7372549 , 0.7490196 ],\n",
              "         [0.8039216 , 0.79607844, 0.80784315],\n",
              "         [0.8627451 , 0.85490197, 0.8627451 ],\n",
              "         ...,\n",
              "         [0.8980392 , 0.90588236, 0.8784314 ],\n",
              "         [0.8980392 , 0.8980392 , 0.8784314 ],\n",
              "         [0.8980392 , 0.89411765, 0.8745098 ]],\n",
              "\n",
              "        [[0.7176471 , 0.7137255 , 0.7294118 ],\n",
              "         [0.78431374, 0.78039217, 0.7882353 ],\n",
              "         [0.85490197, 0.8509804 , 0.85490197],\n",
              "         ...,\n",
              "         [0.8901961 , 0.89411765, 0.8745098 ],\n",
              "         [0.8901961 , 0.8862745 , 0.87058824],\n",
              "         [0.89411765, 0.8784314 , 0.8666667 ]],\n",
              "\n",
              "        [[0.67058825, 0.6666667 , 0.6862745 ],\n",
              "         [0.7411765 , 0.7411765 , 0.75686276],\n",
              "         [0.8352941 , 0.8352941 , 0.84313726],\n",
              "         ...,\n",
              "         [0.90588236, 0.9019608 , 0.8862745 ],\n",
              "         [0.8980392 , 0.8862745 , 0.8745098 ],\n",
              "         [0.8901961 , 0.8745098 , 0.8627451 ]],\n",
              "\n",
              "        ...,\n",
              "\n",
              "        [[0.73333335, 0.7254902 , 0.7294118 ],\n",
              "         [0.8       , 0.7921569 , 0.78039217],\n",
              "         [0.8509804 , 0.8509804 , 0.8235294 ],\n",
              "         ...,\n",
              "         [0.8       , 0.78431374, 0.7647059 ],\n",
              "         [0.76862746, 0.75686276, 0.7411765 ],\n",
              "         [0.76862746, 0.75686276, 0.7411765 ]],\n",
              "\n",
              "        [[0.7294118 , 0.72156864, 0.7254902 ],\n",
              "         [0.7764706 , 0.77254903, 0.7607843 ],\n",
              "         [0.827451  , 0.827451  , 0.8       ],\n",
              "         ...,\n",
              "         [0.87058824, 0.84705883, 0.83137256],\n",
              "         [0.8392157 , 0.81960785, 0.8039216 ],\n",
              "         [0.8156863 , 0.8039216 , 0.78431374]],\n",
              "\n",
              "        [[0.74509805, 0.7372549 , 0.74509805],\n",
              "         [0.78039217, 0.77254903, 0.7607843 ],\n",
              "         [0.8156863 , 0.8156863 , 0.7882353 ],\n",
              "         ...,\n",
              "         [0.9098039 , 0.8901961 , 0.8745098 ],\n",
              "         [0.8862745 , 0.8666667 , 0.84705883],\n",
              "         [0.85490197, 0.8352941 , 0.81960785]]],\n",
              "\n",
              "\n",
              "       [[[0.84705883, 0.8509804 , 0.83137256],\n",
              "         [0.8666667 , 0.87058824, 0.8509804 ],\n",
              "         [0.8862745 , 0.8901961 , 0.8666667 ],\n",
              "         ...,\n",
              "         [0.78431374, 0.78039217, 0.7490196 ],\n",
              "         [0.75686276, 0.7372549 , 0.7137255 ],\n",
              "         [0.77254903, 0.7411765 , 0.7294118 ]],\n",
              "\n",
              "        [[0.8       , 0.8039216 , 0.7921569 ],\n",
              "         [0.8235294 , 0.827451  , 0.8156863 ],\n",
              "         [0.8627451 , 0.8666667 , 0.8509804 ],\n",
              "         ...,\n",
              "         [0.7882353 , 0.78039217, 0.75686276],\n",
              "         [0.7647059 , 0.7490196 , 0.7294118 ],\n",
              "         [0.76862746, 0.74509805, 0.7294118 ]],\n",
              "\n",
              "        [[0.7764706 , 0.7764706 , 0.77254903],\n",
              "         [0.7921569 , 0.7921569 , 0.7882353 ],\n",
              "         [0.83137256, 0.827451  , 0.8235294 ],\n",
              "         ...,\n",
              "         [0.79607844, 0.78431374, 0.76862746],\n",
              "         [0.7764706 , 0.7607843 , 0.7490196 ],\n",
              "         [0.7647059 , 0.74509805, 0.73333335]],\n",
              "\n",
              "        ...,\n",
              "\n",
              "        [[0.9137255 , 0.8862745 , 0.89411765],\n",
              "         [0.9019608 , 0.8784314 , 0.88235295],\n",
              "         [0.89411765, 0.8745098 , 0.8666667 ],\n",
              "         ...,\n",
              "         [0.7764706 , 0.76862746, 0.74509805],\n",
              "         [0.72156864, 0.7176471 , 0.69411767],\n",
              "         [0.7411765 , 0.73333335, 0.7137255 ]],\n",
              "\n",
              "        [[0.90588236, 0.8862745 , 0.89411765],\n",
              "         [0.8980392 , 0.8784314 , 0.88235295],\n",
              "         [0.8901961 , 0.8745098 , 0.87058824],\n",
              "         ...,\n",
              "         [0.7647059 , 0.7607843 , 0.7294118 ],\n",
              "         [0.70980394, 0.70980394, 0.6784314 ],\n",
              "         [0.7294118 , 0.7176471 , 0.69411767]],\n",
              "\n",
              "        [[0.9019608 , 0.8862745 , 0.8901961 ],\n",
              "         [0.9019608 , 0.8862745 , 0.8901961 ],\n",
              "         [0.8980392 , 0.88235295, 0.8862745 ],\n",
              "         ...,\n",
              "         [0.74509805, 0.74509805, 0.70980394],\n",
              "         [0.69803923, 0.69411767, 0.6627451 ],\n",
              "         [0.70980394, 0.69803923, 0.67058825]]]], dtype=float32)"
            ]
          },
          "metadata": {
            "tags": []
          },
          "execution_count": 9
        }
      ]
    },
    {
      "cell_type": "markdown",
      "metadata": {
        "id": "FzBjQxb0EYvk"
      },
      "source": [
        "Initializing parameters"
      ]
    },
    {
      "cell_type": "code",
      "metadata": {
        "id": "s7itpg756K0l"
      },
      "source": [
        "class_count=10\n",
        "batch_size=64\n",
        "learning_rate=0.1"
      ],
      "execution_count": 22,
      "outputs": []
    },
    {
      "cell_type": "code",
      "metadata": {
        "id": "N3rDgpDr8w34"
      },
      "source": [
        "input_size=(32,32,3)"
      ],
      "execution_count": 11,
      "outputs": []
    },
    {
      "cell_type": "markdown",
      "metadata": {
        "id": "Jc78A9NrEdDJ"
      },
      "source": [
        "Building our Convolution neural network according to the provided architecture."
      ]
    },
    {
      "cell_type": "code",
      "metadata": {
        "id": "LS_B-pcj5oI5"
      },
      "source": [
        "cnn_model= Sequential()\n",
        "cnn_model.add(Conv2D(64, kernel_size=(5, 5), activation='relu', strides=(1,1), padding='same',input_shape=input_size)) # first layer conv2D layer with the specifications provided\n",
        "cnn_model.add(MaxPool2D(pool_size=(2,2),strides=(2,2), padding='same',input_shape=input_size )) # second layer MaxPool2D layer with the specifications provided\n",
        "cnn_model.add(Conv2D(64, kernel_size=(5, 5), activation='relu', strides=(1,1), padding='same', input_shape=input_size)) # third layer conv2D layer with the specifications provided\n",
        "cnn_model.add(MaxPool2D(pool_size=(2,2),strides=(2,2), padding='same', input_shape=input_size )) # fourth layer MaxPool2D layer with the specifications provided\n",
        "cnn_model.add(Conv2D(128, kernel_size=(5, 5), activation='relu', strides=(1,1), padding='same', input_shape=input_size )) # fifth layer conv2D layer with the specifications provided\n",
        "cnn_model.add(Flatten()) # flattening the result before sending to next layers\n",
        "cnn_model.add(Dense(3072, activation='relu')) # FC layer with given specifications\n",
        "cnn_model.add(Dense(2048, activation='relu')) \n",
        "cnn_model.add(Dense(class_count, activation='softmax')) # last layer with 10 classes and softmax activation\n"
      ],
      "execution_count": 23,
      "outputs": []
    },
    {
      "cell_type": "markdown",
      "metadata": {
        "id": "oNAW-bKzFZWn"
      },
      "source": [
        "Initializing the optimizer and adding it to our CNN."
      ]
    },
    {
      "cell_type": "code",
      "metadata": {
        "id": "EjvfZh6VDlgD"
      },
      "source": [
        "opt_sgd=SGD(learning_rate=learning_rate)\n",
        "cnn_model.compile(optimizer=opt_sgd, loss=categorical_crossentropy, metrics='accuracy')"
      ],
      "execution_count": 24,
      "outputs": []
    },
    {
      "cell_type": "markdown",
      "metadata": {
        "id": "IXpKDzdvFhEn"
      },
      "source": [
        "Training our model with the given training data and validating the model with test data."
      ]
    },
    {
      "cell_type": "code",
      "metadata": {
        "colab": {
          "base_uri": "https://localhost:8080/"
        },
        "id": "VE3gPe0RFoKY",
        "outputId": "e9c0f477-7c4a-467e-c76e-46f749045b87"
      },
      "source": [
        "model_accuracy=cnn_model.fit(trX,trY_encoded,epochs=20,batch_size=batch_size,validation_data=(tsX, tsY_encoded) )"
      ],
      "execution_count": 25,
      "outputs": [
        {
          "output_type": "stream",
          "text": [
            "Epoch 1/20\n",
            "1145/1145 [==============================] - 15s 13ms/step - loss: 1.6482 - accuracy: 0.4211 - val_loss: 0.5073 - val_accuracy: 0.8442\n",
            "Epoch 2/20\n",
            "1145/1145 [==============================] - 15s 13ms/step - loss: 0.3657 - accuracy: 0.8901 - val_loss: 0.3645 - val_accuracy: 0.8941\n",
            "Epoch 3/20\n",
            "1145/1145 [==============================] - 15s 13ms/step - loss: 0.2500 - accuracy: 0.9255 - val_loss: 0.3255 - val_accuracy: 0.9065\n",
            "Epoch 4/20\n",
            "1145/1145 [==============================] - 15s 13ms/step - loss: 0.1791 - accuracy: 0.9477 - val_loss: 0.3370 - val_accuracy: 0.9086\n",
            "Epoch 5/20\n",
            "1145/1145 [==============================] - 14s 13ms/step - loss: 0.1142 - accuracy: 0.9671 - val_loss: 0.3531 - val_accuracy: 0.9092\n",
            "Epoch 6/20\n",
            "1145/1145 [==============================] - 14s 13ms/step - loss: 0.0746 - accuracy: 0.9786 - val_loss: 0.4078 - val_accuracy: 0.9081\n",
            "Epoch 7/20\n",
            "1145/1145 [==============================] - 15s 13ms/step - loss: 0.0475 - accuracy: 0.9863 - val_loss: 0.4426 - val_accuracy: 0.9113\n",
            "Epoch 8/20\n",
            "1145/1145 [==============================] - 15s 13ms/step - loss: 0.0446 - accuracy: 0.9863 - val_loss: 0.4694 - val_accuracy: 0.9098\n",
            "Epoch 9/20\n",
            "1145/1145 [==============================] - 15s 13ms/step - loss: 0.0235 - accuracy: 0.9930 - val_loss: 0.5075 - val_accuracy: 0.9135\n",
            "Epoch 10/20\n",
            "1145/1145 [==============================] - 14s 13ms/step - loss: 0.0303 - accuracy: 0.9908 - val_loss: 0.6059 - val_accuracy: 0.9000\n",
            "Epoch 11/20\n",
            "1145/1145 [==============================] - 14s 13ms/step - loss: 0.0231 - accuracy: 0.9941 - val_loss: 0.5186 - val_accuracy: 0.9204\n",
            "Epoch 12/20\n",
            "1145/1145 [==============================] - 14s 13ms/step - loss: 0.0076 - accuracy: 0.9982 - val_loss: 0.5507 - val_accuracy: 0.9123\n",
            "Epoch 13/20\n",
            "1145/1145 [==============================] - 14s 13ms/step - loss: 0.0171 - accuracy: 0.9953 - val_loss: 0.5768 - val_accuracy: 0.9137\n",
            "Epoch 14/20\n",
            "1145/1145 [==============================] - 14s 13ms/step - loss: 0.0157 - accuracy: 0.9953 - val_loss: 0.5783 - val_accuracy: 0.9186\n",
            "Epoch 15/20\n",
            "1145/1145 [==============================] - 15s 13ms/step - loss: 0.0091 - accuracy: 0.9979 - val_loss: 0.5700 - val_accuracy: 0.9149\n",
            "Epoch 16/20\n",
            "1145/1145 [==============================] - 14s 13ms/step - loss: 0.0128 - accuracy: 0.9968 - val_loss: 0.5544 - val_accuracy: 0.9188\n",
            "Epoch 17/20\n",
            "1145/1145 [==============================] - 14s 13ms/step - loss: 0.0048 - accuracy: 0.9989 - val_loss: 0.6175 - val_accuracy: 0.9224\n",
            "Epoch 18/20\n",
            "1145/1145 [==============================] - 14s 13ms/step - loss: 0.0022 - accuracy: 0.9994 - val_loss: 0.6371 - val_accuracy: 0.9217\n",
            "Epoch 19/20\n",
            "1145/1145 [==============================] - 14s 13ms/step - loss: 0.0014 - accuracy: 0.9999 - val_loss: 0.6521 - val_accuracy: 0.9263\n",
            "Epoch 20/20\n",
            "1145/1145 [==============================] - 14s 13ms/step - loss: 3.8811e-04 - accuracy: 0.9999 - val_loss: 0.6729 - val_accuracy: 0.9265\n"
          ],
          "name": "stdout"
        }
      ]
    },
    {
      "cell_type": "markdown",
      "metadata": {
        "id": "ymvvKiP_FukO"
      },
      "source": [
        "Evaluating the accuracy of our model for test data"
      ]
    },
    {
      "cell_type": "code",
      "metadata": {
        "colab": {
          "base_uri": "https://localhost:8080/"
        },
        "id": "5oxZ6Ke60hGk",
        "outputId": "7c6bd16d-cc19-4035-cbf4-a2c55a850875"
      },
      "source": [
        "accuracy=cnn_model.evaluate(tsX, tsY_encoded)"
      ],
      "execution_count": 29,
      "outputs": [
        {
          "output_type": "stream",
          "text": [
            "814/814 [==============================] - 3s 4ms/step - loss: 0.6729 - accuracy: 0.9265\n"
          ],
          "name": "stdout"
        }
      ]
    },
    {
      "cell_type": "markdown",
      "metadata": {
        "id": "_Yop7u1yF0Gk"
      },
      "source": [
        "Plot of accuracy for training and test data as a function of epochs."
      ]
    },
    {
      "cell_type": "code",
      "metadata": {
        "colab": {
          "base_uri": "https://localhost:8080/",
          "height": 295
        },
        "id": "cu3bPlvP4ctq",
        "outputId": "1d6b5611-0210-45cb-e1a1-fdd2b3798e62"
      },
      "source": [
        "plt.plot(model_accuracy.history['accuracy'])\n",
        "plt.plot(model_accuracy.history['val_accuracy'])\n",
        "plt.title('Accuracy Plot for training and test data')\n",
        "plt.ylabel('accuracy')\n",
        "plt.xlabel('epoch')\n",
        "plt.legend(['Train','Test'],loc='lower right')\n",
        "plt.show()"
      ],
      "execution_count": 35,
      "outputs": [
        {
          "output_type": "display_data",
          "data": {
            "image/png": "[encoded data removed]",
            "text/plain": [
              "<Figure size 432x288 with 1 Axes>"
            ]
          },
          "metadata": {
            "tags": [],
            "needs_background": "light"
          }
        }
      ]
    },
    {
      "cell_type": "markdown",
      "metadata": {
        "id": "HHZV28QqGB_Z"
      },
      "source": [
        "Plot of Loss function value for both training and test data as a function of epochs. "
      ]
    },
    {
      "cell_type": "code",
      "metadata": {
        "colab": {
          "base_uri": "https://localhost:8080/",
          "height": 295
        },
        "id": "XEXdnlTO7LBx",
        "outputId": "4e22bad8-327f-40e2-a813-9d4723086e5d"
      },
      "source": [
        "plt.plot(model_accuracy.history['loss'])\n",
        "plt.plot(model_accuracy.history['val_loss'])\n",
        "plt.title('Training model Loss Plot')\n",
        "plt.ylabel('loss')\n",
        "plt.xlabel('epoch')\n",
        "plt.legend(['Train','Test'],loc='upper right')\n",
        "plt.show()"
      ],
      "execution_count": 39,
      "outputs": [
        {
          "output_type": "display_data",
          "data": {
            "image/png": "[encoded data removed]",
            "text/plain": [
              "<Figure size 432x288 with 1 Axes>"
            ]
          },
          "metadata": {
            "tags": [],
            "needs_background": "light"
          }
        }
      ]
    }
  ]
}